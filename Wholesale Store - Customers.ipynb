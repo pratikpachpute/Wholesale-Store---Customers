{
 "cells": [
  {
   "cell_type": "markdown",
   "id": "24c8840c",
   "metadata": {},
   "source": [
    "# Clustering"
   ]
  },
  {
   "cell_type": "markdown",
   "id": "eaf65b6e",
   "metadata": {},
   "source": [
    "## Wolesale Store : Customer Dataset"
   ]
  },
  {
   "cell_type": "code",
   "execution_count": 187,
   "id": "5699a5cd",
   "metadata": {},
   "outputs": [],
   "source": [
    "import pandas as pd"
   ]
  },
  {
   "cell_type": "code",
   "execution_count": 188,
   "id": "d160cfa4",
   "metadata": {},
   "outputs": [],
   "source": [
    "input_file = (\"/Users/pratik/Desktop/Harrisburg University programs/Courses/Late Fall Courses 2022/ANLY 530 Principles of Machine Learning/Assignments & PPT's/Assignment 3/Datasets/Wholesale_customers_data.csv\")"
   ]
  },
  {
   "cell_type": "code",
   "execution_count": 189,
   "id": "32391461",
   "metadata": {},
   "outputs": [],
   "source": [
    "data = pd.read_csv(input_file)"
   ]
  },
  {
   "cell_type": "code",
   "execution_count": 190,
   "id": "21ba118e",
   "metadata": {},
   "outputs": [
    {
     "name": "stdout",
     "output_type": "stream",
     "text": [
      "<class 'pandas.core.frame.DataFrame'>\n",
      "RangeIndex: 440 entries, 0 to 439\n",
      "Data columns (total 8 columns):\n",
      " #   Column            Non-Null Count  Dtype\n",
      "---  ------            --------------  -----\n",
      " 0   Channel           440 non-null    int64\n",
      " 1   Region            440 non-null    int64\n",
      " 2   Fresh             440 non-null    int64\n",
      " 3   Milk              440 non-null    int64\n",
      " 4   Grocery           440 non-null    int64\n",
      " 5   Frozen            440 non-null    int64\n",
      " 6   Detergents_Paper  440 non-null    int64\n",
      " 7   Delicassen        440 non-null    int64\n",
      "dtypes: int64(8)\n",
      "memory usage: 27.6 KB\n"
     ]
    }
   ],
   "source": [
    "data.info()"
   ]
  },
  {
   "cell_type": "code",
   "execution_count": 191,
   "id": "a6e71d44",
   "metadata": {},
   "outputs": [
    {
     "data": {
      "text/plain": [
       "Channel             int64\n",
       "Region              int64\n",
       "Fresh               int64\n",
       "Milk                int64\n",
       "Grocery             int64\n",
       "Frozen              int64\n",
       "Detergents_Paper    int64\n",
       "Delicassen          int64\n",
       "dtype: object"
      ]
     },
     "execution_count": 191,
     "metadata": {},
     "output_type": "execute_result"
    }
   ],
   "source": [
    "data.dtypes"
   ]
  },
  {
   "cell_type": "code",
   "execution_count": 192,
   "id": "92cb9d5d",
   "metadata": {
    "scrolled": true
   },
   "outputs": [
    {
     "data": {
      "text/html": [
       "<div>\n",
       "<style scoped>\n",
       "    .dataframe tbody tr th:only-of-type {\n",
       "        vertical-align: middle;\n",
       "    }\n",
       "\n",
       "    .dataframe tbody tr th {\n",
       "        vertical-align: top;\n",
       "    }\n",
       "\n",
       "    .dataframe thead th {\n",
       "        text-align: right;\n",
       "    }\n",
       "</style>\n",
       "<table border=\"1\" class=\"dataframe\">\n",
       "  <thead>\n",
       "    <tr style=\"text-align: right;\">\n",
       "      <th></th>\n",
       "      <th>Channel</th>\n",
       "      <th>Region</th>\n",
       "      <th>Fresh</th>\n",
       "      <th>Milk</th>\n",
       "      <th>Grocery</th>\n",
       "      <th>Frozen</th>\n",
       "      <th>Detergents_Paper</th>\n",
       "      <th>Delicassen</th>\n",
       "    </tr>\n",
       "  </thead>\n",
       "  <tbody>\n",
       "    <tr>\n",
       "      <th>count</th>\n",
       "      <td>440.000000</td>\n",
       "      <td>440.000000</td>\n",
       "      <td>440.000000</td>\n",
       "      <td>440.000000</td>\n",
       "      <td>440.000000</td>\n",
       "      <td>440.000000</td>\n",
       "      <td>440.000000</td>\n",
       "      <td>440.000000</td>\n",
       "    </tr>\n",
       "    <tr>\n",
       "      <th>mean</th>\n",
       "      <td>1.322727</td>\n",
       "      <td>2.543182</td>\n",
       "      <td>12000.297727</td>\n",
       "      <td>5796.265909</td>\n",
       "      <td>7951.277273</td>\n",
       "      <td>3071.931818</td>\n",
       "      <td>2881.493182</td>\n",
       "      <td>1524.870455</td>\n",
       "    </tr>\n",
       "    <tr>\n",
       "      <th>std</th>\n",
       "      <td>0.468052</td>\n",
       "      <td>0.774272</td>\n",
       "      <td>12647.328865</td>\n",
       "      <td>7380.377175</td>\n",
       "      <td>9503.162829</td>\n",
       "      <td>4854.673333</td>\n",
       "      <td>4767.854448</td>\n",
       "      <td>2820.105937</td>\n",
       "    </tr>\n",
       "    <tr>\n",
       "      <th>min</th>\n",
       "      <td>1.000000</td>\n",
       "      <td>1.000000</td>\n",
       "      <td>3.000000</td>\n",
       "      <td>55.000000</td>\n",
       "      <td>3.000000</td>\n",
       "      <td>25.000000</td>\n",
       "      <td>3.000000</td>\n",
       "      <td>3.000000</td>\n",
       "    </tr>\n",
       "    <tr>\n",
       "      <th>25%</th>\n",
       "      <td>1.000000</td>\n",
       "      <td>2.000000</td>\n",
       "      <td>3127.750000</td>\n",
       "      <td>1533.000000</td>\n",
       "      <td>2153.000000</td>\n",
       "      <td>742.250000</td>\n",
       "      <td>256.750000</td>\n",
       "      <td>408.250000</td>\n",
       "    </tr>\n",
       "    <tr>\n",
       "      <th>50%</th>\n",
       "      <td>1.000000</td>\n",
       "      <td>3.000000</td>\n",
       "      <td>8504.000000</td>\n",
       "      <td>3627.000000</td>\n",
       "      <td>4755.500000</td>\n",
       "      <td>1526.000000</td>\n",
       "      <td>816.500000</td>\n",
       "      <td>965.500000</td>\n",
       "    </tr>\n",
       "    <tr>\n",
       "      <th>75%</th>\n",
       "      <td>2.000000</td>\n",
       "      <td>3.000000</td>\n",
       "      <td>16933.750000</td>\n",
       "      <td>7190.250000</td>\n",
       "      <td>10655.750000</td>\n",
       "      <td>3554.250000</td>\n",
       "      <td>3922.000000</td>\n",
       "      <td>1820.250000</td>\n",
       "    </tr>\n",
       "    <tr>\n",
       "      <th>max</th>\n",
       "      <td>2.000000</td>\n",
       "      <td>3.000000</td>\n",
       "      <td>112151.000000</td>\n",
       "      <td>73498.000000</td>\n",
       "      <td>92780.000000</td>\n",
       "      <td>60869.000000</td>\n",
       "      <td>40827.000000</td>\n",
       "      <td>47943.000000</td>\n",
       "    </tr>\n",
       "  </tbody>\n",
       "</table>\n",
       "</div>"
      ],
      "text/plain": [
       "          Channel      Region          Fresh          Milk       Grocery  \\\n",
       "count  440.000000  440.000000     440.000000    440.000000    440.000000   \n",
       "mean     1.322727    2.543182   12000.297727   5796.265909   7951.277273   \n",
       "std      0.468052    0.774272   12647.328865   7380.377175   9503.162829   \n",
       "min      1.000000    1.000000       3.000000     55.000000      3.000000   \n",
       "25%      1.000000    2.000000    3127.750000   1533.000000   2153.000000   \n",
       "50%      1.000000    3.000000    8504.000000   3627.000000   4755.500000   \n",
       "75%      2.000000    3.000000   16933.750000   7190.250000  10655.750000   \n",
       "max      2.000000    3.000000  112151.000000  73498.000000  92780.000000   \n",
       "\n",
       "             Frozen  Detergents_Paper    Delicassen  \n",
       "count    440.000000        440.000000    440.000000  \n",
       "mean    3071.931818       2881.493182   1524.870455  \n",
       "std     4854.673333       4767.854448   2820.105937  \n",
       "min       25.000000          3.000000      3.000000  \n",
       "25%      742.250000        256.750000    408.250000  \n",
       "50%     1526.000000        816.500000    965.500000  \n",
       "75%     3554.250000       3922.000000   1820.250000  \n",
       "max    60869.000000      40827.000000  47943.000000  "
      ]
     },
     "execution_count": 192,
     "metadata": {},
     "output_type": "execute_result"
    }
   ],
   "source": [
    "data.describe()"
   ]
  },
  {
   "cell_type": "code",
   "execution_count": 193,
   "id": "09ad297d",
   "metadata": {},
   "outputs": [
    {
     "data": {
      "text/plain": [
       "Channel             0\n",
       "Region              0\n",
       "Fresh               0\n",
       "Milk                0\n",
       "Grocery             0\n",
       "Frozen              0\n",
       "Detergents_Paper    0\n",
       "Delicassen          0\n",
       "dtype: int64"
      ]
     },
     "execution_count": 193,
     "metadata": {},
     "output_type": "execute_result"
    }
   ],
   "source": [
    "data.isnull().sum()"
   ]
  },
  {
   "cell_type": "code",
   "execution_count": 194,
   "id": "a65b0018",
   "metadata": {},
   "outputs": [
    {
     "data": {
      "text/html": [
       "<div>\n",
       "<style scoped>\n",
       "    .dataframe tbody tr th:only-of-type {\n",
       "        vertical-align: middle;\n",
       "    }\n",
       "\n",
       "    .dataframe tbody tr th {\n",
       "        vertical-align: top;\n",
       "    }\n",
       "\n",
       "    .dataframe thead th {\n",
       "        text-align: right;\n",
       "    }\n",
       "</style>\n",
       "<table border=\"1\" class=\"dataframe\">\n",
       "  <thead>\n",
       "    <tr style=\"text-align: right;\">\n",
       "      <th></th>\n",
       "      <th>Channel</th>\n",
       "      <th>Region</th>\n",
       "      <th>Fresh</th>\n",
       "      <th>Milk</th>\n",
       "      <th>Grocery</th>\n",
       "      <th>Frozen</th>\n",
       "      <th>Detergents_Paper</th>\n",
       "      <th>Delicassen</th>\n",
       "    </tr>\n",
       "  </thead>\n",
       "  <tbody>\n",
       "    <tr>\n",
       "      <th>0</th>\n",
       "      <td>2</td>\n",
       "      <td>3</td>\n",
       "      <td>12669</td>\n",
       "      <td>9656</td>\n",
       "      <td>7561</td>\n",
       "      <td>214</td>\n",
       "      <td>2674</td>\n",
       "      <td>1338</td>\n",
       "    </tr>\n",
       "    <tr>\n",
       "      <th>1</th>\n",
       "      <td>2</td>\n",
       "      <td>3</td>\n",
       "      <td>7057</td>\n",
       "      <td>9810</td>\n",
       "      <td>9568</td>\n",
       "      <td>1762</td>\n",
       "      <td>3293</td>\n",
       "      <td>1776</td>\n",
       "    </tr>\n",
       "    <tr>\n",
       "      <th>2</th>\n",
       "      <td>2</td>\n",
       "      <td>3</td>\n",
       "      <td>6353</td>\n",
       "      <td>8808</td>\n",
       "      <td>7684</td>\n",
       "      <td>2405</td>\n",
       "      <td>3516</td>\n",
       "      <td>7844</td>\n",
       "    </tr>\n",
       "    <tr>\n",
       "      <th>3</th>\n",
       "      <td>1</td>\n",
       "      <td>3</td>\n",
       "      <td>13265</td>\n",
       "      <td>1196</td>\n",
       "      <td>4221</td>\n",
       "      <td>6404</td>\n",
       "      <td>507</td>\n",
       "      <td>1788</td>\n",
       "    </tr>\n",
       "    <tr>\n",
       "      <th>4</th>\n",
       "      <td>2</td>\n",
       "      <td>3</td>\n",
       "      <td>22615</td>\n",
       "      <td>5410</td>\n",
       "      <td>7198</td>\n",
       "      <td>3915</td>\n",
       "      <td>1777</td>\n",
       "      <td>5185</td>\n",
       "    </tr>\n",
       "  </tbody>\n",
       "</table>\n",
       "</div>"
      ],
      "text/plain": [
       "   Channel  Region  Fresh  Milk  Grocery  Frozen  Detergents_Paper  Delicassen\n",
       "0        2       3  12669  9656     7561     214              2674        1338\n",
       "1        2       3   7057  9810     9568    1762              3293        1776\n",
       "2        2       3   6353  8808     7684    2405              3516        7844\n",
       "3        1       3  13265  1196     4221    6404               507        1788\n",
       "4        2       3  22615  5410     7198    3915              1777        5185"
      ]
     },
     "execution_count": 194,
     "metadata": {},
     "output_type": "execute_result"
    }
   ],
   "source": [
    "data.head()"
   ]
  },
  {
   "cell_type": "markdown",
   "id": "c6c2425a",
   "metadata": {},
   "source": [
    "#### To see the statistics of variables (simmilar to describe function) using a for loop"
   ]
  },
  {
   "cell_type": "code",
   "execution_count": 195,
   "id": "c42e56a3",
   "metadata": {},
   "outputs": [
    {
     "name": "stdout",
     "output_type": "stream",
     "text": [
      "Maximum of  Fresh  is 112151 while mean value is  12000.297727272728\n",
      "Maximum of  Milk  is 73498 while mean value is  5796.265909090909\n",
      "Maximum of  Grocery  is 92780 while mean value is  7951.277272727273\n",
      "Maximum of  Frozen  is 60869 while mean value is  3071.931818181818\n",
      "Maximum of  Detergents_Paper  is 40827 while mean value is  2881.4931818181817\n",
      "Maximum of  Delicassen  is 47943 while mean value is  1524.8704545454545\n"
     ]
    }
   ],
   "source": [
    "for i in ['Fresh','Milk','Grocery','Frozen','Detergents_Paper','Delicassen']:\n",
    "          print('Maximum of ',i, ' is',data[i].max(), 'while mean value is ',data[i].mean())"
   ]
  },
  {
   "cell_type": "markdown",
   "id": "250a2dd2",
   "metadata": {},
   "source": [
    "#### Fitting a normal distribution to one of the variables the formula for x creates a distribution for values of x for \"Fresh\" varaiable, upto 3 SD's form the mean."
   ]
  },
  {
   "cell_type": "code",
   "execution_count": 196,
   "id": "8f0af10d",
   "metadata": {},
   "outputs": [
    {
     "data": {
      "image/png": "[encoded data removed]",
      "text/plain": [
       "<Figure size 640x480 with 1 Axes>"
      ]
     },
     "metadata": {},
     "output_type": "display_data"
    }
   ],
   "source": [
    "import numpy as np\n",
    "import matplotlib.pyplot as plt\n",
    "from scipy.stats import norm\n",
    "\n",
    "mu = data['Fresh'].mean()\n",
    "sigma = data['Fresh'].std()\n",
    "x = np.linspace(mu-3*sigma, mu+3*sigma, 100)\n",
    "x_axis = np.arange(0, 10, 0.001)\n",
    "#plt.plot(data[\"Fresh\"].max(), norm.pdf(x,mu,sigma))\n",
    "plt.axvline(x=mu, color='r')\n",
    "plt.plot(x,norm.pdf(x,mu,sigma))\n",
    "plt.plot([data['Fresh'].max()], [0], marker='o', markersize=3, color=\"red\")\n",
    "plt.title('Distribution of Fresh price')\n",
    "plt.xlabel('Price of Fresh')\n",
    "plt.show()"
   ]
  },
  {
   "cell_type": "markdown",
   "id": "a553180b",
   "metadata": {},
   "source": [
    "#### Remove values that are more than 3 times of std. dev"
   ]
  },
  {
   "cell_type": "code",
   "execution_count": 198,
   "id": "27756cf4",
   "metadata": {},
   "outputs": [],
   "source": [
    "from scipy import stats"
   ]
  },
  {
   "cell_type": "markdown",
   "id": "60667da2",
   "metadata": {},
   "source": [
    "#### For each column, first it computes the \"Z-score\" of each value in the column, relative to the column mean and standard deviation.Then it takes the absolute of Z-score because the direction does not matter, only if it is below the threshold. Then, \"all(axis=1)\" ensures that for each row, all column satisfy the constraint. Finally, result of this condition is used to index the dataframe."
   ]
  },
  {
   "cell_type": "code",
   "execution_count": 199,
   "id": "91d958d2",
   "metadata": {},
   "outputs": [
    {
     "data": {
      "text/html": [
       "<div>\n",
       "<style scoped>\n",
       "    .dataframe tbody tr th:only-of-type {\n",
       "        vertical-align: middle;\n",
       "    }\n",
       "\n",
       "    .dataframe tbody tr th {\n",
       "        vertical-align: top;\n",
       "    }\n",
       "\n",
       "    .dataframe thead th {\n",
       "        text-align: right;\n",
       "    }\n",
       "</style>\n",
       "<table border=\"1\" class=\"dataframe\">\n",
       "  <thead>\n",
       "    <tr style=\"text-align: right;\">\n",
       "      <th></th>\n",
       "      <th>Fresh</th>\n",
       "      <th>Milk</th>\n",
       "      <th>Grocery</th>\n",
       "      <th>Frozen</th>\n",
       "      <th>Detergents_Paper</th>\n",
       "      <th>Delicassen</th>\n",
       "    </tr>\n",
       "  </thead>\n",
       "  <tbody>\n",
       "    <tr>\n",
       "      <th>count</th>\n",
       "      <td>414.000000</td>\n",
       "      <td>414.000000</td>\n",
       "      <td>414.000000</td>\n",
       "      <td>414.000000</td>\n",
       "      <td>414.000000</td>\n",
       "      <td>414.000000</td>\n",
       "    </tr>\n",
       "    <tr>\n",
       "      <th>mean</th>\n",
       "      <td>10711.758454</td>\n",
       "      <td>4871.920290</td>\n",
       "      <td>6814.043478</td>\n",
       "      <td>2549.898551</td>\n",
       "      <td>2373.393720</td>\n",
       "      <td>1237.939614</td>\n",
       "    </tr>\n",
       "    <tr>\n",
       "      <th>std</th>\n",
       "      <td>9819.217756</td>\n",
       "      <td>4555.665546</td>\n",
       "      <td>6456.160715</td>\n",
       "      <td>2916.683284</td>\n",
       "      <td>3208.707909</td>\n",
       "      <td>1217.399162</td>\n",
       "    </tr>\n",
       "    <tr>\n",
       "      <th>min</th>\n",
       "      <td>3.000000</td>\n",
       "      <td>55.000000</td>\n",
       "      <td>3.000000</td>\n",
       "      <td>25.000000</td>\n",
       "      <td>3.000000</td>\n",
       "      <td>3.000000</td>\n",
       "    </tr>\n",
       "    <tr>\n",
       "      <th>25%</th>\n",
       "      <td>3063.250000</td>\n",
       "      <td>1477.750000</td>\n",
       "      <td>2116.000000</td>\n",
       "      <td>676.750000</td>\n",
       "      <td>252.750000</td>\n",
       "      <td>395.000000</td>\n",
       "    </tr>\n",
       "    <tr>\n",
       "      <th>50%</th>\n",
       "      <td>8040.000000</td>\n",
       "      <td>3530.000000</td>\n",
       "      <td>4528.000000</td>\n",
       "      <td>1447.000000</td>\n",
       "      <td>772.000000</td>\n",
       "      <td>881.000000</td>\n",
       "    </tr>\n",
       "    <tr>\n",
       "      <th>75%</th>\n",
       "      <td>15657.000000</td>\n",
       "      <td>6908.500000</td>\n",
       "      <td>9762.250000</td>\n",
       "      <td>3204.250000</td>\n",
       "      <td>3660.500000</td>\n",
       "      <td>1681.750000</td>\n",
       "    </tr>\n",
       "    <tr>\n",
       "      <th>max</th>\n",
       "      <td>49063.000000</td>\n",
       "      <td>25862.000000</td>\n",
       "      <td>34792.000000</td>\n",
       "      <td>16919.000000</td>\n",
       "      <td>17120.000000</td>\n",
       "      <td>7844.000000</td>\n",
       "    </tr>\n",
       "  </tbody>\n",
       "</table>\n",
       "</div>"
      ],
      "text/plain": [
       "              Fresh          Milk       Grocery        Frozen  \\\n",
       "count    414.000000    414.000000    414.000000    414.000000   \n",
       "mean   10711.758454   4871.920290   6814.043478   2549.898551   \n",
       "std     9819.217756   4555.665546   6456.160715   2916.683284   \n",
       "min        3.000000     55.000000      3.000000     25.000000   \n",
       "25%     3063.250000   1477.750000   2116.000000    676.750000   \n",
       "50%     8040.000000   3530.000000   4528.000000   1447.000000   \n",
       "75%    15657.000000   6908.500000   9762.250000   3204.250000   \n",
       "max    49063.000000  25862.000000  34792.000000  16919.000000   \n",
       "\n",
       "       Detergents_Paper   Delicassen  \n",
       "count        414.000000   414.000000  \n",
       "mean        2373.393720  1237.939614  \n",
       "std         3208.707909  1217.399162  \n",
       "min            3.000000     3.000000  \n",
       "25%          252.750000   395.000000  \n",
       "50%          772.000000   881.000000  \n",
       "75%         3660.500000  1681.750000  \n",
       "max        17120.000000  7844.000000  "
      ]
     },
     "execution_count": 199,
     "metadata": {},
     "output_type": "execute_result"
    }
   ],
   "source": [
    "data_new = data[(np.abs(stats.zscore(data)) < 3).all(axis = 1)]\n",
    "data_new = data_new.drop([\"Channel\", \"Region\"], axis = 1)\n",
    "data_new.describe()"
   ]
  },
  {
   "cell_type": "markdown",
   "id": "f0d73436",
   "metadata": {},
   "source": [
    "#### The number of datapoints dropped"
   ]
  },
  {
   "cell_type": "code",
   "execution_count": 201,
   "id": "219ecf08",
   "metadata": {},
   "outputs": [
    {
     "name": "stdout",
     "output_type": "stream",
     "text": [
      "Number of dropped instances =  26\n"
     ]
    }
   ],
   "source": [
    "print(\"Number of dropped instances = \", data.shape[0] - data_new.shape[0])"
   ]
  },
  {
   "cell_type": "code",
   "execution_count": 202,
   "id": "661d4e19",
   "metadata": {},
   "outputs": [
    {
     "data": {
      "text/plain": [
       "(440, 8)"
      ]
     },
     "execution_count": 202,
     "metadata": {},
     "output_type": "execute_result"
    }
   ],
   "source": [
    "data.shape"
   ]
  },
  {
   "cell_type": "code",
   "execution_count": 203,
   "id": "62384921",
   "metadata": {},
   "outputs": [
    {
     "data": {
      "text/plain": [
       "(414, 6)"
      ]
     },
     "execution_count": 203,
     "metadata": {},
     "output_type": "execute_result"
    }
   ],
   "source": [
    "data_new.shape"
   ]
  },
  {
   "cell_type": "markdown",
   "id": "914ddbb3",
   "metadata": {},
   "source": [
    "### Designing the model"
   ]
  },
  {
   "cell_type": "markdown",
   "id": "8193ea81",
   "metadata": {},
   "source": [
    "#### Creating clusters with spscifying no of cluster means n_clusters and fitting it on data_new"
   ]
  },
  {
   "cell_type": "code",
   "execution_count": 18,
   "id": "e1fb6c25",
   "metadata": {},
   "outputs": [
    {
     "data": {
      "text/plain": [
       "2    143\n",
       "0    108\n",
       "4     79\n",
       "1     42\n",
       "3     42\n",
       "dtype: int64"
      ]
     },
     "execution_count": 18,
     "metadata": {},
     "output_type": "execute_result"
    }
   ],
   "source": [
    "from sklearn.cluster import KMeans\n",
    "kmeans = KMeans(n_clusters=5, random_state=76964057).fit(data_new)\n",
    "pd.Series(kmeans.labels_).value_counts()"
   ]
  },
  {
   "cell_type": "markdown",
   "id": "c139d0db",
   "metadata": {},
   "source": [
    "#### Centroids"
   ]
  },
  {
   "cell_type": "code",
   "execution_count": 20,
   "id": "f82cd3d5",
   "metadata": {
    "scrolled": true
   },
   "outputs": [
    {
     "data": {
      "text/plain": [
       "array([[16470.87037037,  3026.49074074,  4264.74074074,  3217.30555556,\n",
       "          996.55555556,  1319.75925926],\n",
       "       [ 5502.33333333, 13328.47619048, 21524.30952381,  1691.71428571,\n",
       "         9145.95238095,  1682.30952381],\n",
       "       [ 5013.3006993 ,  2270.53146853,  2742.87412587,  2597.83916084,\n",
       "          643.02797203,   834.55244755],\n",
       "       [32641.95238095,  4895.5       ,  5538.04761905,  3842.69047619,\n",
       "          944.95238095,  1639.28571429],\n",
       "       [ 4263.94936709,  7595.20253165, 10526.2278481 ,  1319.65822785,\n",
       "         4546.65822785,  1406.64556962]])"
      ]
     },
     "execution_count": 20,
     "metadata": {},
     "output_type": "execute_result"
    }
   ],
   "source": [
    "kmeans.cluster_centers_"
   ]
  },
  {
   "cell_type": "markdown",
   "id": "424ee364",
   "metadata": {},
   "source": [
    "#### Creating a dataframe with the cluster centres as obtained above. Each of the 5 menas list calculated(5 lists as we specified K as 5)has 6 values, one for each column. Hence we will create a dataframe of these 5 Kmeans list and 6 respective column names\n"
   ]
  },
  {
   "cell_type": "code",
   "execution_count": 21,
   "id": "bbcc90f9",
   "metadata": {},
   "outputs": [
    {
     "data": {
      "text/html": [
       "<div>\n",
       "<style scoped>\n",
       "    .dataframe tbody tr th:only-of-type {\n",
       "        vertical-align: middle;\n",
       "    }\n",
       "\n",
       "    .dataframe tbody tr th {\n",
       "        vertical-align: top;\n",
       "    }\n",
       "\n",
       "    .dataframe thead th {\n",
       "        text-align: right;\n",
       "    }\n",
       "</style>\n",
       "<table border=\"1\" class=\"dataframe\">\n",
       "  <thead>\n",
       "    <tr style=\"text-align: right;\">\n",
       "      <th></th>\n",
       "      <th>Fresh</th>\n",
       "      <th>Milk</th>\n",
       "      <th>Grocery</th>\n",
       "      <th>Frozen</th>\n",
       "      <th>Detergents_Paper</th>\n",
       "      <th>Delicassen</th>\n",
       "    </tr>\n",
       "  </thead>\n",
       "  <tbody>\n",
       "    <tr>\n",
       "      <th>0</th>\n",
       "      <td>16470.870370</td>\n",
       "      <td>3026.490741</td>\n",
       "      <td>4264.740741</td>\n",
       "      <td>3217.305556</td>\n",
       "      <td>996.555556</td>\n",
       "      <td>1319.759259</td>\n",
       "    </tr>\n",
       "    <tr>\n",
       "      <th>1</th>\n",
       "      <td>5502.333333</td>\n",
       "      <td>13328.476190</td>\n",
       "      <td>21524.309524</td>\n",
       "      <td>1691.714286</td>\n",
       "      <td>9145.952381</td>\n",
       "      <td>1682.309524</td>\n",
       "    </tr>\n",
       "    <tr>\n",
       "      <th>2</th>\n",
       "      <td>5013.300699</td>\n",
       "      <td>2270.531469</td>\n",
       "      <td>2742.874126</td>\n",
       "      <td>2597.839161</td>\n",
       "      <td>643.027972</td>\n",
       "      <td>834.552448</td>\n",
       "    </tr>\n",
       "    <tr>\n",
       "      <th>3</th>\n",
       "      <td>32641.952381</td>\n",
       "      <td>4895.500000</td>\n",
       "      <td>5538.047619</td>\n",
       "      <td>3842.690476</td>\n",
       "      <td>944.952381</td>\n",
       "      <td>1639.285714</td>\n",
       "    </tr>\n",
       "    <tr>\n",
       "      <th>4</th>\n",
       "      <td>4263.949367</td>\n",
       "      <td>7595.202532</td>\n",
       "      <td>10526.227848</td>\n",
       "      <td>1319.658228</td>\n",
       "      <td>4546.658228</td>\n",
       "      <td>1406.645570</td>\n",
       "    </tr>\n",
       "  </tbody>\n",
       "</table>\n",
       "</div>"
      ],
      "text/plain": [
       "          Fresh          Milk       Grocery       Frozen  Detergents_Paper  \\\n",
       "0  16470.870370   3026.490741   4264.740741  3217.305556        996.555556   \n",
       "1   5502.333333  13328.476190  21524.309524  1691.714286       9145.952381   \n",
       "2   5013.300699   2270.531469   2742.874126  2597.839161        643.027972   \n",
       "3  32641.952381   4895.500000   5538.047619  3842.690476        944.952381   \n",
       "4   4263.949367   7595.202532  10526.227848  1319.658228       4546.658228   \n",
       "\n",
       "    Delicassen  \n",
       "0  1319.759259  \n",
       "1  1682.309524  \n",
       "2   834.552448  \n",
       "3  1639.285714  \n",
       "4  1406.645570  "
      ]
     },
     "execution_count": 21,
     "metadata": {},
     "output_type": "execute_result"
    }
   ],
   "source": [
    "\n",
    "pd.DataFrame(data=kmeans.cluster_centers_, columns=['Fresh','Milk','Grocery','Frozen','Detergents_Paper','Delicassen'])\n"
   ]
  },
  {
   "cell_type": "markdown",
   "id": "7759e682",
   "metadata": {},
   "source": [
    "#### We started with a K means value of 5, As We see the above dataframe gives us the mixture of variables within each of the 5 clusters.\n",
    "#### For example cluster indexed 1 looks to be heavy on Grocery and above average on Detergents and paper. Cluster indexed 3 looks to be dominant in Fresh category. The value counts give us the distribution of counts for each of 5 clusters as below : 0- 108, 1-42, 2-143, 3-42, 4-79. The cluster numbers were indexed starting from 0. The total of all 5 clsuters for each variable is 414"
   ]
  },
  {
   "cell_type": "markdown",
   "id": "bf354d23",
   "metadata": {},
   "source": [
    "#### Now we create a a Lop for K values between 2  and 20. Important step is Adding key,value to dict, with key as k no of clusters and value = Inertia: Sum of distances of samples to their closest cluster center = within cluster distance"
   ]
  },
  {
   "cell_type": "code",
   "execution_count": 22,
   "id": "e51a7223",
   "metadata": {},
   "outputs": [
    {
     "name": "stdout",
     "output_type": "stream",
     "text": [
      "73984012841.4855\n",
      "1    294\n",
      "0    120\n",
      "dtype: int64\n",
      "At k=  2 The percentage of change in SSE is  38.05976060288236 %\n",
      "The last_sse value to be used for K =  3  is  45825874669.610374\n",
      "45825874669.610374\n",
      "2    223\n",
      "0     99\n",
      "1     92\n",
      "dtype: int64\n",
      "At k=  3 The percentage of change in SSE is  36.79139679443055 %\n",
      "The last_sse value to be used for K =  4  is  28965895285.395584\n",
      "28965895285.395584\n",
      "2    175\n",
      "0    109\n",
      "1     84\n",
      "3     46\n",
      "dtype: int64\n",
      "At k=  4 The percentage of change in SSE is  19.949152060286586 %\n",
      "The last_sse value to be used for K =  5  is  23187444789.288635\n",
      "23187444789.288635\n",
      "2    143\n",
      "0    108\n",
      "4     79\n",
      "1     42\n",
      "3     42\n",
      "dtype: int64\n",
      "At k=  5 The percentage of change in SSE is  15.627091486585702 %\n",
      "The last_sse value to be used for K =  6  is  19563921578.66495\n",
      "19563921578.66495\n",
      "1    143\n",
      "0     98\n",
      "5     80\n",
      "2     40\n",
      "3     37\n",
      "4     16\n",
      "dtype: int64\n",
      "At k=  6 The percentage of change in SSE is  11.357482276048316 %\n",
      "The last_sse value to be used for K =  7  is  17341952652.868088\n",
      "17341952652.868088\n",
      "3    95\n",
      "1    90\n",
      "4    73\n",
      "5    64\n",
      "0    40\n",
      "6    38\n",
      "2    14\n",
      "dtype: int64\n",
      "At k=  7 The percentage of change in SSE is  8.73140249666422 %\n",
      "The last_sse value to be used for K =  8  is  15827756965.965237\n",
      "15827756965.965237\n",
      "6    88\n",
      "0    85\n",
      "3    66\n",
      "5    44\n",
      "2    44\n",
      "7    36\n",
      "4    35\n",
      "1    16\n",
      "dtype: int64\n",
      "At k=  8 The percentage of change in SSE is  6.658044624473278 %\n",
      "The last_sse value to be used for K =  9  is  14773937844.118093\n",
      "14773937844.118093\n",
      "3    90\n",
      "7    88\n",
      "0    67\n",
      "1    53\n",
      "6    32\n",
      "8    31\n",
      "4    29\n",
      "2    16\n",
      "5     8\n",
      "dtype: int64\n",
      "At k=  9 The percentage of change in SSE is  7.053778124935269 %\n",
      "The last_sse value to be used for K =  10  is  13731817048.278158\n",
      "13731817048.278158\n",
      "2    80\n",
      "5    77\n",
      "9    59\n",
      "0    53\n",
      "1    36\n",
      "4    32\n",
      "6    27\n",
      "7    20\n",
      "8    16\n",
      "3    14\n",
      "dtype: int64\n",
      "At k=  10 The percentage of change in SSE is  7.02484982447811 %\n",
      "The last_sse value to be used for K =  11  is  12767177522.464535\n",
      "12767177522.464535\n",
      "4     78\n",
      "8     73\n",
      "2     63\n",
      "5     58\n",
      "6     32\n",
      "9     25\n",
      "0     24\n",
      "7     22\n",
      "1     15\n",
      "3     15\n",
      "10     9\n",
      "dtype: int64\n",
      "At k=  11 The percentage of change in SSE is  3.930776725346538 %\n",
      "The last_sse value to be used for K =  12  is  12265328279.927824\n",
      "12265328279.927824\n",
      "7     82\n",
      "4     79\n",
      "8     62\n",
      "6     53\n",
      "1     28\n",
      "5     25\n",
      "10    22\n",
      "0     20\n",
      "3     14\n",
      "2     12\n",
      "9     12\n",
      "11     5\n",
      "dtype: int64\n",
      "At k=  12 The percentage of change in SSE is  8.315284281709397 %\n",
      "The last_sse value to be used for K =  13  is  11245431365.366928\n",
      "11245431365.366928\n",
      "4     81\n",
      "7     70\n",
      "10    53\n",
      "5     44\n",
      "11    32\n",
      "9     26\n",
      "3     22\n",
      "1     22\n",
      "0     20\n",
      "2     14\n",
      "8     13\n",
      "6     12\n",
      "12     5\n",
      "dtype: int64\n",
      "At k=  13 The percentage of change in SSE is  4.709693744106548 %\n",
      "The last_sse value to be used for K =  14  is  10715805987.854446\n",
      "10715805987.854446\n",
      "12    75\n",
      "8     71\n",
      "1     54\n",
      "0     38\n",
      "11    31\n",
      "5     28\n",
      "4     20\n",
      "6     19\n",
      "3     17\n",
      "2     17\n",
      "9     14\n",
      "13    13\n",
      "10    10\n",
      "7      7\n",
      "dtype: int64\n",
      "At k=  14 The percentage of change in SSE is  3.0495083388263913 %\n",
      "The last_sse value to be used for K =  15  is  10389026590.682367\n",
      "10389026590.682367\n",
      "6     70\n",
      "0     70\n",
      "11    48\n",
      "8     43\n",
      "4     35\n",
      "9     21\n",
      "14    21\n",
      "3     20\n",
      "7     20\n",
      "12    15\n",
      "5     14\n",
      "1     13\n",
      "13    11\n",
      "2      9\n",
      "10     4\n",
      "dtype: int64\n",
      "At k=  15 The percentage of change in SSE is  5.8715363282234705 %\n",
      "The last_sse value to be used for K =  16  is  9779031120.261656\n",
      "9779031120.261656\n",
      "7     59\n",
      "10    59\n",
      "9     36\n",
      "0     35\n",
      "13    35\n",
      "6     34\n",
      "2     24\n",
      "3     23\n",
      "8     18\n",
      "1     17\n",
      "4     16\n",
      "5     16\n",
      "14    15\n",
      "11    15\n",
      "15     8\n",
      "12     4\n",
      "dtype: int64\n",
      "At k=  16 The percentage of change in SSE is  3.9429835097186303 %\n",
      "The last_sse value to be used for K =  17  is  9393445535.779486\n",
      "9393445535.779486\n",
      "6     62\n",
      "12    59\n",
      "9     40\n",
      "7     35\n",
      "1     27\n",
      "13    27\n",
      "2     23\n",
      "4     23\n",
      "16    18\n",
      "5     17\n",
      "3     17\n",
      "0     15\n",
      "10    14\n",
      "11    12\n",
      "8     11\n",
      "15     8\n",
      "14     6\n",
      "dtype: int64\n",
      "At k=  17 The percentage of change in SSE is  6.711402828394341 %\n",
      "The last_sse value to be used for K =  18  is  8763013566.4075\n",
      "8763013566.4075\n",
      "4     67\n",
      "1     59\n",
      "0     47\n",
      "10    44\n",
      "15    28\n",
      "13    21\n",
      "12    19\n",
      "6     19\n",
      "11    18\n",
      "7     18\n",
      "9     15\n",
      "5     14\n",
      "14    14\n",
      "3     10\n",
      "2      8\n",
      "17     7\n",
      "8      4\n",
      "16     2\n",
      "dtype: int64\n",
      "At k=  18 The percentage of change in SSE is  0.853986291848728 %\n",
      "The last_sse value to be used for K =  19  is  8688178631.797535\n",
      "{2: 45825874669.610374, 3: 28965895285.395584, 4: 23187444789.288635, 5: 19563921578.66495, 6: 17341952652.868088, 7: 15827756965.965237, 8: 14773937844.118093, 9: 13731817048.278158, 10: 12767177522.464535, 11: 12265328279.927824, 12: 11245431365.366928, 13: 10715805987.854446, 14: 10389026590.682367, 15: 9779031120.261656, 16: 9393445535.779486, 17: 8763013566.4075, 18: 8688178631.797535}\n"
     ]
    }
   ],
   "source": [
    "sse = {}\n",
    "last_sse = 73984012841.4855\n",
    "for k in range(2, 19):\n",
    "    print(last_sse)\n",
    "    kmeans = KMeans(n_clusters=k, random_state=76964057).fit(data_new)\n",
    "    data_new[\"clusters\"] = kmeans.labels_\n",
    "    print(pd.Series(kmeans.labels_).value_counts())\n",
    "    sse[k] = kmeans.inertia_  # Adding key,value to dict, with key as k no of clusters and value = Inertia: Sum of sdistances of samples to their closest cluster center= within cluster sum of squares\n",
    "    change_per = (last_sse - kmeans.inertia_)/last_sse*100\n",
    "    print ('At k= ',k,'The percentage of change in SSE is ',change_per,'%') \n",
    "    last_sse = kmeans.inertia_\n",
    "    print(\"The last_sse value to be used for K = \", k+1, \" is \", last_sse )\n",
    "print(sse)\n"
   ]
  },
  {
   "cell_type": "code",
   "execution_count": 24,
   "id": "f125af97",
   "metadata": {},
   "outputs": [
    {
     "data": {
      "text/html": [
       "<div>\n",
       "<style scoped>\n",
       "    .dataframe tbody tr th:only-of-type {\n",
       "        vertical-align: middle;\n",
       "    }\n",
       "\n",
       "    .dataframe tbody tr th {\n",
       "        vertical-align: top;\n",
       "    }\n",
       "\n",
       "    .dataframe thead th {\n",
       "        text-align: right;\n",
       "    }\n",
       "</style>\n",
       "<table border=\"1\" class=\"dataframe\">\n",
       "  <thead>\n",
       "    <tr style=\"text-align: right;\">\n",
       "      <th></th>\n",
       "      <th>Fresh</th>\n",
       "      <th>Milk</th>\n",
       "      <th>Grocery</th>\n",
       "      <th>Frozen</th>\n",
       "      <th>Detergents_Paper</th>\n",
       "      <th>Delicassen</th>\n",
       "      <th>clusters</th>\n",
       "    </tr>\n",
       "  </thead>\n",
       "  <tbody>\n",
       "    <tr>\n",
       "      <th>0</th>\n",
       "      <td>12669</td>\n",
       "      <td>9656</td>\n",
       "      <td>7561</td>\n",
       "      <td>214</td>\n",
       "      <td>2674</td>\n",
       "      <td>1338</td>\n",
       "      <td>15</td>\n",
       "    </tr>\n",
       "    <tr>\n",
       "      <th>1</th>\n",
       "      <td>7057</td>\n",
       "      <td>9810</td>\n",
       "      <td>9568</td>\n",
       "      <td>1762</td>\n",
       "      <td>3293</td>\n",
       "      <td>1776</td>\n",
       "      <td>0</td>\n",
       "    </tr>\n",
       "    <tr>\n",
       "      <th>2</th>\n",
       "      <td>6353</td>\n",
       "      <td>8808</td>\n",
       "      <td>7684</td>\n",
       "      <td>2405</td>\n",
       "      <td>3516</td>\n",
       "      <td>7844</td>\n",
       "      <td>0</td>\n",
       "    </tr>\n",
       "    <tr>\n",
       "      <th>3</th>\n",
       "      <td>13265</td>\n",
       "      <td>1196</td>\n",
       "      <td>4221</td>\n",
       "      <td>6404</td>\n",
       "      <td>507</td>\n",
       "      <td>1788</td>\n",
       "      <td>11</td>\n",
       "    </tr>\n",
       "    <tr>\n",
       "      <th>4</th>\n",
       "      <td>22615</td>\n",
       "      <td>5410</td>\n",
       "      <td>7198</td>\n",
       "      <td>3915</td>\n",
       "      <td>1777</td>\n",
       "      <td>5185</td>\n",
       "      <td>7</td>\n",
       "    </tr>\n",
       "    <tr>\n",
       "      <th>...</th>\n",
       "      <td>...</td>\n",
       "      <td>...</td>\n",
       "      <td>...</td>\n",
       "      <td>...</td>\n",
       "      <td>...</td>\n",
       "      <td>...</td>\n",
       "      <td>...</td>\n",
       "    </tr>\n",
       "    <tr>\n",
       "      <th>435</th>\n",
       "      <td>29703</td>\n",
       "      <td>12051</td>\n",
       "      <td>16027</td>\n",
       "      <td>13135</td>\n",
       "      <td>182</td>\n",
       "      <td>2204</td>\n",
       "      <td>16</td>\n",
       "    </tr>\n",
       "    <tr>\n",
       "      <th>436</th>\n",
       "      <td>39228</td>\n",
       "      <td>1431</td>\n",
       "      <td>764</td>\n",
       "      <td>4510</td>\n",
       "      <td>93</td>\n",
       "      <td>2346</td>\n",
       "      <td>5</td>\n",
       "    </tr>\n",
       "    <tr>\n",
       "      <th>437</th>\n",
       "      <td>14531</td>\n",
       "      <td>15488</td>\n",
       "      <td>30243</td>\n",
       "      <td>437</td>\n",
       "      <td>14841</td>\n",
       "      <td>1867</td>\n",
       "      <td>8</td>\n",
       "    </tr>\n",
       "    <tr>\n",
       "      <th>438</th>\n",
       "      <td>10290</td>\n",
       "      <td>1981</td>\n",
       "      <td>2232</td>\n",
       "      <td>1038</td>\n",
       "      <td>168</td>\n",
       "      <td>2125</td>\n",
       "      <td>1</td>\n",
       "    </tr>\n",
       "    <tr>\n",
       "      <th>439</th>\n",
       "      <td>2787</td>\n",
       "      <td>1698</td>\n",
       "      <td>2510</td>\n",
       "      <td>65</td>\n",
       "      <td>477</td>\n",
       "      <td>52</td>\n",
       "      <td>4</td>\n",
       "    </tr>\n",
       "  </tbody>\n",
       "</table>\n",
       "<p>414 rows × 7 columns</p>\n",
       "</div>"
      ],
      "text/plain": [
       "     Fresh   Milk  Grocery  Frozen  Detergents_Paper  Delicassen  clusters\n",
       "0    12669   9656     7561     214              2674        1338        15\n",
       "1     7057   9810     9568    1762              3293        1776         0\n",
       "2     6353   8808     7684    2405              3516        7844         0\n",
       "3    13265   1196     4221    6404               507        1788        11\n",
       "4    22615   5410     7198    3915              1777        5185         7\n",
       "..     ...    ...      ...     ...               ...         ...       ...\n",
       "435  29703  12051    16027   13135               182        2204        16\n",
       "436  39228   1431      764    4510                93        2346         5\n",
       "437  14531  15488    30243     437             14841        1867         8\n",
       "438  10290   1981     2232    1038               168        2125         1\n",
       "439   2787   1698     2510      65               477          52         4\n",
       "\n",
       "[414 rows x 7 columns]"
      ]
     },
     "execution_count": 24,
     "metadata": {},
     "output_type": "execute_result"
    }
   ],
   "source": [
    "data_new"
   ]
  },
  {
   "cell_type": "markdown",
   "id": "b25bb4d0",
   "metadata": {},
   "source": [
    "#### The sse dictionary is created with no of clusters as the keys and the vlaues of inertia or sum of sqaures within a cluster as the value for each key"
   ]
  },
  {
   "cell_type": "markdown",
   "id": "4a6e4b62",
   "metadata": {},
   "source": [
    "#### Plotting the figure with key as no of clusters on x axis and values as within cluster distance on y axis"
   ]
  },
  {
   "cell_type": "code",
   "execution_count": 25,
   "id": "a3f12da3",
   "metadata": {},
   "outputs": [
    {
     "data": {
      "image/png": "[encoded data removed]",
      "text/plain": [
       "<Figure size 640x480 with 1 Axes>"
      ]
     },
     "metadata": {},
     "output_type": "display_data"
    }
   ],
   "source": [
    "plt.figure()\n",
    "plt.plot(list(sse.keys()), list(sse.values()))\n",
    "plt.xlabel(\"Number of cluster\") \n",
    "plt.ylabel(\"SSE\")\n",
    "plt.show()"
   ]
  },
  {
   "cell_type": "markdown",
   "id": "4e241247",
   "metadata": {},
   "source": [
    "#### We started with Kmenas value of 5, 5 clusters for each variable. There are different methods to determing the best value of K. Given the range from 1 to 20 clusters as considered for our analysis. By the empirical method the best value would be sqrt(414)/2 = 10. By the elbow method it seems like the best value for k is 6. As we from the graph as the number of clusters are increasing the within cluster distance is decreasing. However from k=7 the percentage change in sse from the previous is under 10. So after K= 6 it is possible that the model may overfit and capture noise. At 6 this change can be see like a elbow effect. Also the between group distance looks good and the percentage change in sse is more from K>k at k=6."
   ]
  },
  {
   "cell_type": "markdown",
   "id": "d9d02d95",
   "metadata": {},
   "source": [
    "#### Model With k=6"
   ]
  },
  {
   "cell_type": "code",
   "execution_count": 50,
   "id": "137d160a",
   "metadata": {
    "scrolled": true
   },
   "outputs": [
    {
     "data": {
      "text/plain": [
       "1    143\n",
       "0     98\n",
       "5     80\n",
       "2     40\n",
       "3     37\n",
       "4     16\n",
       "dtype: int64"
      ]
     },
     "execution_count": 50,
     "metadata": {},
     "output_type": "execute_result"
    }
   ],
   "source": [
    "from sklearn.cluster import KMeans\n",
    "data_new = data_new.drop([\"clusters\"], axis =1) # Dropping the clusters column which was added before\n",
    "kmeans = KMeans(n_clusters=6, random_state=76964057).fit(data_new)\n",
    "pd.Series(kmeans.labels_).value_counts()\n"
   ]
  },
  {
   "cell_type": "markdown",
   "id": "b63de55e",
   "metadata": {},
   "source": [
    "#### Creating data frame with cluster cetners for 6 means (as we have K=6), with each column names (X-coordinate variable  names of centers) containing the wieghtage value of variable (X-coordinate values of respective variables) for each mean (6 means)"
   ]
  },
  {
   "cell_type": "code",
   "execution_count": 52,
   "id": "b2cae4aa",
   "metadata": {},
   "outputs": [
    {
     "data": {
      "text/html": [
       "<div>\n",
       "<style scoped>\n",
       "    .dataframe tbody tr th:only-of-type {\n",
       "        vertical-align: middle;\n",
       "    }\n",
       "\n",
       "    .dataframe tbody tr th {\n",
       "        vertical-align: top;\n",
       "    }\n",
       "\n",
       "    .dataframe thead th {\n",
       "        text-align: right;\n",
       "    }\n",
       "</style>\n",
       "<table border=\"1\" class=\"dataframe\">\n",
       "  <thead>\n",
       "    <tr style=\"text-align: right;\">\n",
       "      <th></th>\n",
       "      <th>Fresh</th>\n",
       "      <th>Milk</th>\n",
       "      <th>Grocery</th>\n",
       "      <th>Frozen</th>\n",
       "      <th>Detergents_Paper</th>\n",
       "      <th>Delicassen</th>\n",
       "    </tr>\n",
       "  </thead>\n",
       "  <tbody>\n",
       "    <tr>\n",
       "      <th>0</th>\n",
       "      <td>15779.591837</td>\n",
       "      <td>2703.561224</td>\n",
       "      <td>3739.795918</td>\n",
       "      <td>3018.826531</td>\n",
       "      <td>834.887755</td>\n",
       "      <td>1174.061224</td>\n",
       "    </tr>\n",
       "    <tr>\n",
       "      <th>1</th>\n",
       "      <td>5003.839161</td>\n",
       "      <td>2320.069930</td>\n",
       "      <td>2764.265734</td>\n",
       "      <td>2587.839161</td>\n",
       "      <td>653.475524</td>\n",
       "      <td>843.531469</td>\n",
       "    </tr>\n",
       "    <tr>\n",
       "      <th>2</th>\n",
       "      <td>5522.025000</td>\n",
       "      <td>13458.500000</td>\n",
       "      <td>21821.700000</td>\n",
       "      <td>1674.700000</td>\n",
       "      <td>9209.875000</td>\n",
       "      <td>1684.525000</td>\n",
       "    </tr>\n",
       "    <tr>\n",
       "      <th>3</th>\n",
       "      <td>26264.756757</td>\n",
       "      <td>6082.432432</td>\n",
       "      <td>7456.864865</td>\n",
       "      <td>4516.702703</td>\n",
       "      <td>1517.810811</td>\n",
       "      <td>2089.729730</td>\n",
       "    </tr>\n",
       "    <tr>\n",
       "      <th>4</th>\n",
       "      <td>40149.125000</td>\n",
       "      <td>2728.000000</td>\n",
       "      <td>3303.312500</td>\n",
       "      <td>2999.687500</td>\n",
       "      <td>602.437500</td>\n",
       "      <td>1198.312500</td>\n",
       "    </tr>\n",
       "    <tr>\n",
       "      <th>5</th>\n",
       "      <td>4220.700000</td>\n",
       "      <td>7665.225000</td>\n",
       "      <td>10719.987500</td>\n",
       "      <td>1345.637500</td>\n",
       "      <td>4664.075000</td>\n",
       "      <td>1411.875000</td>\n",
       "    </tr>\n",
       "  </tbody>\n",
       "</table>\n",
       "</div>"
      ],
      "text/plain": [
       "          Fresh          Milk       Grocery       Frozen  Detergents_Paper  \\\n",
       "0  15779.591837   2703.561224   3739.795918  3018.826531        834.887755   \n",
       "1   5003.839161   2320.069930   2764.265734  2587.839161        653.475524   \n",
       "2   5522.025000  13458.500000  21821.700000  1674.700000       9209.875000   \n",
       "3  26264.756757   6082.432432   7456.864865  4516.702703       1517.810811   \n",
       "4  40149.125000   2728.000000   3303.312500  2999.687500        602.437500   \n",
       "5   4220.700000   7665.225000  10719.987500  1345.637500       4664.075000   \n",
       "\n",
       "    Delicassen  \n",
       "0  1174.061224  \n",
       "1   843.531469  \n",
       "2  1684.525000  \n",
       "3  2089.729730  \n",
       "4  1198.312500  \n",
       "5  1411.875000  "
      ]
     },
     "execution_count": 52,
     "metadata": {},
     "output_type": "execute_result"
    }
   ],
   "source": [
    "pd.DataFrame(data=kmeans.cluster_centers_, columns=['Fresh','Milk','Grocery','Frozen','Detergents_Paper','Delicassen'])"
   ]
  },
  {
   "cell_type": "markdown",
   "id": "a8aef639",
   "metadata": {},
   "source": [
    "#### As we seee for 6 clusters staritng from cluster 0 to cluster 5,  the number of data points in each cluster are explained above in series output.The cluster centre analysis is then updated in the Pandas datafram output. We can see that Cluster 1 has below average values for all categories and may represent smaller customers. Clsuter named 2 is dominant in Grocery and also in Milk category. Cluster named 4 is dominant in the Fresh category."
   ]
  },
  {
   "cell_type": "markdown",
   "id": "e86fac74",
   "metadata": {},
   "source": [
    "#### The number of data points in each clusters for all values of k have been included in the output as seen above.For k= 6 clusters we have, 98 data points in cluster 0, 143 data points in cluster 1, 40 data points in cluster 2, 37 data points in cluster 3, 16 data points in cluster 4 and 80 data points in cluster 5."
   ]
  }
 ],
 "metadata": {
  "kernelspec": {
   "display_name": "Python 3 (ipykernel)",
   "language": "python",
   "name": "python3"
  },
  "language_info": {
   "codemirror_mode": {
    "name": "ipython",
    "version": 3
   },
   "file_extension": ".py",
   "mimetype": "text/x-python",
   "name": "python",
   "nbconvert_exporter": "python",
   "pygments_lexer": "ipython3",
   "version": "3.9.13"
  }
 },
 "nbformat": 4,
 "nbformat_minor": 5
}
